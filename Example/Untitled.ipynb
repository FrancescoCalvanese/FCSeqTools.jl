{
 "cells": [
  {
   "cell_type": "code",
   "execution_count": 2,
   "id": "76b4b147",
   "metadata": {},
   "outputs": [],
   "source": [
    "using FCSeqTools\n",
    "#include(\"plotting_tools.jl\")"
   ]
  },
  {
   "cell_type": "code",
   "execution_count": 4,
   "id": "60627c16",
   "metadata": {},
   "outputs": [],
   "source": [
    "using FCSeqTools"
   ]
  },
  {
   "cell_type": "code",
   "execution_count": null,
   "id": "ea725dfd",
   "metadata": {},
   "outputs": [],
   "source": []
  }
 ],
 "metadata": {
  "kernelspec": {
   "display_name": "Julia 1.7.2",
   "language": "julia",
   "name": "julia-1.7"
  },
  "language_info": {
   "file_extension": ".jl",
   "mimetype": "application/julia",
   "name": "julia",
   "version": "1.7.2"
  }
 },
 "nbformat": 4,
 "nbformat_minor": 5
}
